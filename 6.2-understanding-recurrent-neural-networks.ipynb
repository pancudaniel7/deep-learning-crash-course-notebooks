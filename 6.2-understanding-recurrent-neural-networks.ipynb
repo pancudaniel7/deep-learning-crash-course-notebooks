{
  "nbformat": 4,
  "nbformat_minor": 0,
  "metadata": {
    "kernelspec": {
      "name": "python3",
      "display_name": "Python 3"
    },
    "language_info": {
      "codemirror_mode": {
        "name": "ipython",
        "version": 3
      },
      "file_extension": ".py",
      "mimetype": "text/x-python",
      "name": "python",
      "nbconvert_exporter": "python",
      "pygments_lexer": "ipython3",
      "version": "3.7.4"
    },
    "colab": {
      "name": "6.2-understanding-recurrent-neural-networks.ipynb",
      "provenance": []
    },
    "accelerator": "GPU"
  },
  "cells": [
    {
      "cell_type": "code",
      "metadata": {
        "id": "aWklC2Yei01e",
        "colab_type": "code",
        "colab": {
          "base_uri": "https://localhost:8080/",
          "height": 34
        },
        "outputId": "08570bcc-9013-4110-f1c9-1a823597467d"
      },
      "source": [
        "try:\n",
        "  # %tensorflow_version only exists in Colab.\n",
        "  %tensorflow_version 2.x\n",
        "except Exception:\n",
        "  pass"
      ],
      "execution_count": 1,
      "outputs": [
        {
          "output_type": "stream",
          "text": [
            "TensorFlow 2.x selected.\n"
          ],
          "name": "stdout"
        }
      ]
    },
    {
      "cell_type": "code",
      "metadata": {
        "id": "omIcfQoDiwzt",
        "colab_type": "code",
        "colab": {
          "base_uri": "https://localhost:8080/",
          "height": 34
        },
        "outputId": "a54afa69-8d44-448a-aa5a-2e6219e3572d"
      },
      "source": [
        "import tensorflow as tf\n",
        "tf.__version__"
      ],
      "execution_count": 2,
      "outputs": [
        {
          "output_type": "execute_result",
          "data": {
            "text/plain": [
              "'2.1.0'"
            ]
          },
          "metadata": {
            "tags": []
          },
          "execution_count": 2
        }
      ]
    },
    {
      "cell_type": "code",
      "metadata": {
        "id": "x_p_Bgbsjvgj",
        "colab_type": "code",
        "colab": {}
      },
      "source": [
        "tf.random.set_seed(42)"
      ],
      "execution_count": 0,
      "outputs": []
    },
    {
      "cell_type": "code",
      "metadata": {
        "id": "pHtYyKmXiwz1",
        "colab_type": "code",
        "colab": {
          "base_uri": "https://localhost:8080/",
          "height": 34
        },
        "outputId": "88db8336-247f-45a4-df38-0517f0d1cbd8"
      },
      "source": [
        "from tensorflow import keras\n",
        "keras.__version__"
      ],
      "execution_count": 4,
      "outputs": [
        {
          "output_type": "execute_result",
          "data": {
            "text/plain": [
              "'2.2.4-tf'"
            ]
          },
          "metadata": {
            "tags": []
          },
          "execution_count": 4
        }
      ]
    },
    {
      "cell_type": "code",
      "metadata": {
        "id": "voGGgLMLjwZW",
        "colab_type": "code",
        "colab": {
          "base_uri": "https://localhost:8080/",
          "height": 306
        },
        "outputId": "bc31abf4-9672-4ac2-ae45-d3baffe3bd9c"
      },
      "source": [
        "!nvidia-smi"
      ],
      "execution_count": 5,
      "outputs": [
        {
          "output_type": "stream",
          "text": [
            "Mon Feb 24 00:18:55 2020       \n",
            "+-----------------------------------------------------------------------------+\n",
            "| NVIDIA-SMI 440.48.02    Driver Version: 418.67       CUDA Version: 10.1     |\n",
            "|-------------------------------+----------------------+----------------------+\n",
            "| GPU  Name        Persistence-M| Bus-Id        Disp.A | Volatile Uncorr. ECC |\n",
            "| Fan  Temp  Perf  Pwr:Usage/Cap|         Memory-Usage | GPU-Util  Compute M. |\n",
            "|===============================+======================+======================|\n",
            "|   0  Tesla T4            Off  | 00000000:00:04.0 Off |                    0 |\n",
            "| N/A   67C    P8    12W /  70W |      0MiB / 15079MiB |      0%      Default |\n",
            "+-------------------------------+----------------------+----------------------+\n",
            "                                                                               \n",
            "+-----------------------------------------------------------------------------+\n",
            "| Processes:                                                       GPU Memory |\n",
            "|  GPU       PID   Type   Process name                             Usage      |\n",
            "|=============================================================================|\n",
            "|  No running processes found                                                 |\n",
            "+-----------------------------------------------------------------------------+\n"
          ],
          "name": "stdout"
        }
      ]
    },
    {
      "cell_type": "markdown",
      "metadata": {
        "id": "el8LoTIJiwz3",
        "colab_type": "text"
      },
      "source": [
        "# Understanding recurrent neural networks\n",
        "\n",
        "This notebook contains the code samples found in Chapter 6, Section 2 of [Deep Learning with Python](https://www.manning.com/books/deep-learning-with-python?a_aid=keras&a_bid=76564dff). Note that the original text features far more content, in particular further explanations and figures: in this notebook, you will only find source code and related comments.\n",
        "\n",
        "---\n",
        "\n",
        "[...]\n",
        "\n",
        "## A first recurrent layer in Keras\n",
        "\n",
        "The process we just naively implemented in Numpy corresponds to an actual Keras layer: the `SimpleRNN` layer:\n"
      ]
    },
    {
      "cell_type": "code",
      "metadata": {
        "id": "XCjI9LsOiwz4",
        "colab_type": "code",
        "colab": {}
      },
      "source": [
        "from tensorflow.keras.layers import SimpleRNN"
      ],
      "execution_count": 0,
      "outputs": []
    },
    {
      "cell_type": "markdown",
      "metadata": {
        "id": "-cVUV319iwz7",
        "colab_type": "text"
      },
      "source": [
        "There is just one minor difference: `SimpleRNN` processes batches of sequences, like all other Keras layers, not just a single sequence like \n",
        "in our Numpy example. This means that it takes inputs of shape `(batch_size, timesteps, input_features)`, rather than `(timesteps, \n",
        "input_features)`.\n",
        "\n",
        "Like all recurrent layers in Keras, `SimpleRNN` can be run in two different modes: it can return either the full sequences of successive \n",
        "outputs for each timestep (a 3D tensor of shape `(batch_size, timesteps, output_features)`), or it can return only the last output for each \n",
        "input sequence (a 2D tensor of shape `(batch_size, output_features)`). These two modes are controlled by the `return_sequences` constructor \n",
        "argument. Let's take a look at an example:"
      ]
    },
    {
      "cell_type": "code",
      "metadata": {
        "id": "b-T0WsI_r0by",
        "colab_type": "code",
        "colab": {}
      },
      "source": [
        "Embeddin"
      ],
      "execution_count": 0,
      "outputs": []
    },
    {
      "cell_type": "code",
      "metadata": {
        "id": "4HCdYGxsiwz8",
        "colab_type": "code",
        "colab": {
          "base_uri": "https://localhost:8080/",
          "height": 221
        },
        "outputId": "f62cb969-3a23-4c96-b222-0bf9a2e51d93"
      },
      "source": [
        "from tensorflow.keras.models import Sequential\n",
        "from tensorflow.keras.layers import Embedding, SimpleRNN\n",
        "\n",
        "model = Sequential()\n",
        "model.add(Embedding(input_dim=10000, output_dim=32))\n",
        "model.add(SimpleRNN(unit=32))\n",
        "model.summary()"
      ],
      "execution_count": 10,
      "outputs": [
        {
          "output_type": "stream",
          "text": [
            "Model: \"sequential\"\n",
            "_________________________________________________________________\n",
            "Layer (type)                 Output Shape              Param #   \n",
            "=================================================================\n",
            "embedding (Embedding)        (None, None, 32)          320000    \n",
            "_________________________________________________________________\n",
            "simple_rnn (SimpleRNN)       (None, 32)                2080      \n",
            "=================================================================\n",
            "Total params: 322,080\n",
            "Trainable params: 322,080\n",
            "Non-trainable params: 0\n",
            "_________________________________________________________________\n"
          ],
          "name": "stdout"
        }
      ]
    },
    {
      "cell_type": "code",
      "metadata": {
        "id": "GgPhxAQIiw0A",
        "colab_type": "code",
        "colab": {
          "base_uri": "https://localhost:8080/",
          "height": 221
        },
        "outputId": "1d160e7b-b009-4942-857f-c799c70678f7"
      },
      "source": [
        "model = Sequential()\n",
        "model.add(Embedding(10000, 32))\n",
        "model.add(SimpleRNN(32, return_sequences=True))\n",
        "model.summary()"
      ],
      "execution_count": 11,
      "outputs": [
        {
          "output_type": "stream",
          "text": [
            "Model: \"sequential_1\"\n",
            "_________________________________________________________________\n",
            "Layer (type)                 Output Shape              Param #   \n",
            "=================================================================\n",
            "embedding_1 (Embedding)      (None, None, 32)          320000    \n",
            "_________________________________________________________________\n",
            "simple_rnn_1 (SimpleRNN)     (None, None, 32)          2080      \n",
            "=================================================================\n",
            "Total params: 322,080\n",
            "Trainable params: 322,080\n",
            "Non-trainable params: 0\n",
            "_________________________________________________________________\n"
          ],
          "name": "stdout"
        }
      ]
    },
    {
      "cell_type": "markdown",
      "metadata": {
        "id": "xzrcKivUiw0E",
        "colab_type": "text"
      },
      "source": [
        "It is sometimes useful to stack several recurrent layers one after the other in order to increase the representational power of a network. \n",
        "In such a setup, you have to get all intermediate layers to return full sequences:"
      ]
    },
    {
      "cell_type": "code",
      "metadata": {
        "id": "PYbo2Vthiw0G",
        "colab_type": "code",
        "colab": {
          "base_uri": "https://localhost:8080/",
          "height": 323
        },
        "outputId": "2ef349a1-570b-4c41-ef40-d46b175e8a45"
      },
      "source": [
        "model = Sequential()\n",
        "model.add(Embedding(10000, 32))\n",
        "model.add(SimpleRNN(32, return_sequences=True))\n",
        "model.add(SimpleRNN(32, return_sequences=True))\n",
        "model.add(SimpleRNN(32, return_sequences=True))\n",
        "model.add(SimpleRNN(32))  # This last layer only returns the last outputs.\n",
        "model.summary()"
      ],
      "execution_count": 12,
      "outputs": [
        {
          "output_type": "stream",
          "text": [
            "Model: \"sequential_2\"\n",
            "_________________________________________________________________\n",
            "Layer (type)                 Output Shape              Param #   \n",
            "=================================================================\n",
            "embedding_2 (Embedding)      (None, None, 32)          320000    \n",
            "_________________________________________________________________\n",
            "simple_rnn_2 (SimpleRNN)     (None, None, 32)          2080      \n",
            "_________________________________________________________________\n",
            "simple_rnn_3 (SimpleRNN)     (None, None, 32)          2080      \n",
            "_________________________________________________________________\n",
            "simple_rnn_4 (SimpleRNN)     (None, None, 32)          2080      \n",
            "_________________________________________________________________\n",
            "simple_rnn_5 (SimpleRNN)     (None, 32)                2080      \n",
            "=================================================================\n",
            "Total params: 328,320\n",
            "Trainable params: 328,320\n",
            "Non-trainable params: 0\n",
            "_________________________________________________________________\n"
          ],
          "name": "stdout"
        }
      ]
    },
    {
      "cell_type": "markdown",
      "metadata": {
        "id": "p4klqc5Siw0L",
        "colab_type": "text"
      },
      "source": [
        "Now let's try to use such a model on the IMDB movie review classification problem. First, let's preprocess the data:"
      ]
    },
    {
      "cell_type": "code",
      "metadata": {
        "id": "Roitebw5iw0M",
        "colab_type": "code",
        "colab": {
          "base_uri": "https://localhost:8080/",
          "height": 153
        },
        "outputId": "2565078f-2c63-490a-97da-4581879d184d"
      },
      "source": [
        "from tensorflow.keras.datasets import imdb\n",
        "from tensorflow.keras.preprocessing import sequence\n",
        "\n",
        "max_features = 10000  # number of words to consider as features\n",
        "maxlen = 500  # cut texts after this number of words (among top max_features most common words)\n",
        "batch_size = 32\n",
        "\n",
        "print('Loading data...')\n",
        "(input_train, y_train), (input_test, y_test) = imdb.load_data(num_words=max_features)\n",
        "print(len(input_train), 'train sequences')\n",
        "print(len(input_test), 'test sequences')\n",
        "\n",
        "print('Pad sequences (samples x time)')\n",
        "input_train = sequence.pad_sequences(input_train, maxlen=maxlen)\n",
        "input_test = sequence.pad_sequences(input_test, maxlen=maxlen)\n",
        "print('input_train shape:', input_train.shape)\n",
        "print('input_test shape:', input_test.shape)"
      ],
      "execution_count": 13,
      "outputs": [
        {
          "output_type": "stream",
          "text": [
            "Loading data...\n",
            "Downloading data from https://storage.googleapis.com/tensorflow/tf-keras-datasets/imdb.npz\n",
            "17465344/17464789 [==============================] - 0s 0us/step\n",
            "25000 train sequences\n",
            "25000 test sequences\n",
            "Pad sequences (samples x time)\n",
            "input_train shape: (25000, 500)\n",
            "input_test shape: (25000, 500)\n"
          ],
          "name": "stdout"
        }
      ]
    },
    {
      "cell_type": "markdown",
      "metadata": {
        "id": "jXsIRp0Viw0P",
        "colab_type": "text"
      },
      "source": [
        "Let's train a simple recurrent network using an `Embedding` layer and a `SimpleRNN` layer:"
      ]
    },
    {
      "cell_type": "code",
      "metadata": {
        "id": "DI14wlWS1_9l",
        "colab_type": "code",
        "colab": {}
      },
      "source": [
        "from tensorflow.keras.regularizers import l1, l2, l1_l2"
      ],
      "execution_count": 0,
      "outputs": []
    },
    {
      "cell_type": "code",
      "metadata": {
        "id": "8OUzSYoHiw0Q",
        "colab_type": "code",
        "colab": {}
      },
      "source": [
        "from tensorflow.keras.layers import Dense\n",
        "\n",
        "model = Sequential()\n",
        "model.add(Embedding(max_features, 32))\n",
        "model.add(\n",
        "    # LSTM(units=32,\n",
        "    # GRU(units=32,\n",
        "    SimpleRNN(units=32,\n",
        "              activation='relu',\n",
        "                    # activity_regularizer=l1_l2(l1=0.01, l2=0.01)\n",
        "                    activity_regularizer=l1_l2(l1=0.01, l2=0.00)\n",
        "                    # dropout=0.1,\n",
        "                    # recurrent_dropout=0.1\n",
        "                    ))\n",
        "model.add(Dense(1, activation='sigmoid'))\n",
        "# model.summary()"
      ],
      "execution_count": 0,
      "outputs": []
    },
    {
      "cell_type": "code",
      "metadata": {
        "id": "aji_iQlNwtB3",
        "colab_type": "code",
        "colab": {}
      },
      "source": [
        "callback = tf.keras.callbacks.EarlyStopping(monitor='val_loss', patience=3)"
      ],
      "execution_count": 0,
      "outputs": []
    },
    {
      "cell_type": "code",
      "metadata": {
        "id": "BVkV10eMs3pV",
        "colab_type": "code",
        "colab": {
          "base_uri": "https://localhost:8080/",
          "height": 408
        },
        "outputId": "b075f9ed-3acf-4e16-aba8-f307a57f2f1e"
      },
      "source": [
        "# optimizer = tf.keras.optimizers.SGD(lr=0.1)\n",
        "optimizer = tf.keras.optimizers.Adam()\n",
        "model.compile(optimizer=optimizer, loss='binary_crossentropy', metrics=['accuracy'])\n",
        "history = model.fit(input_train, y_train,\n",
        "                    epochs=20,\n",
        "                    # batch_size=128,\n",
        "                    batch_size=1024,\n",
        "                    callbacks=[callback],\n",
        "                    validation_data=(input_test, y_test)\n",
        "#                     validation_split=0.2\n",
        "                   )"
      ],
      "execution_count": 90,
      "outputs": [
        {
          "output_type": "stream",
          "text": [
            "Train on 25000 samples, validate on 25000 samples\n",
            "Epoch 1/20\n",
            "25000/25000 [==============================] - 13s 502us/sample - loss: 0.6940 - accuracy: 0.5579 - val_loss: 0.6905 - val_accuracy: 0.5862\n",
            "Epoch 2/20\n",
            "25000/25000 [==============================] - 11s 444us/sample - loss: 0.6831 - accuracy: 0.6569 - val_loss: 0.6790 - val_accuracy: 0.6290\n",
            "Epoch 3/20\n",
            "25000/25000 [==============================] - 11s 445us/sample - loss: 0.6294 - accuracy: 0.7334 - val_loss: 0.5526 - val_accuracy: 0.7926\n",
            "Epoch 4/20\n",
            "25000/25000 [==============================] - 11s 434us/sample - loss: 0.5052 - accuracy: 0.8194 - val_loss: 0.4705 - val_accuracy: 0.8309\n",
            "Epoch 5/20\n",
            "25000/25000 [==============================] - 11s 449us/sample - loss: 0.4069 - accuracy: 0.8638 - val_loss: 0.4634 - val_accuracy: 0.8234\n",
            "Epoch 6/20\n",
            "25000/25000 [==============================] - 11s 447us/sample - loss: 0.3733 - accuracy: 0.8827 - val_loss: 0.4152 - val_accuracy: 0.8557\n",
            "Epoch 7/20\n",
            "25000/25000 [==============================] - 11s 443us/sample - loss: 0.3084 - accuracy: 0.9117 - val_loss: 0.3921 - val_accuracy: 0.8676\n",
            "Epoch 8/20\n",
            "25000/25000 [==============================] - 12s 479us/sample - loss: 0.2803 - accuracy: 0.9272 - val_loss: 0.3902 - val_accuracy: 0.8665\n",
            "Epoch 9/20\n",
            "25000/25000 [==============================] - 11s 436us/sample - loss: 0.2643 - accuracy: 0.9360 - val_loss: 0.3943 - val_accuracy: 0.8678\n",
            "Epoch 10/20\n",
            "25000/25000 [==============================] - 11s 449us/sample - loss: 0.2332 - accuracy: 0.9504 - val_loss: 0.4065 - val_accuracy: 0.8606\n",
            "Epoch 11/20\n",
            "25000/25000 [==============================] - 11s 449us/sample - loss: 0.2166 - accuracy: 0.9580 - val_loss: 0.4002 - val_accuracy: 0.8632\n"
          ],
          "name": "stdout"
        }
      ]
    },
    {
      "cell_type": "markdown",
      "metadata": {
        "id": "ZEmvVc4kiw0U",
        "colab_type": "text"
      },
      "source": [
        "Let's display the training and validation loss and accuracy:"
      ]
    },
    {
      "cell_type": "code",
      "metadata": {
        "id": "bqZNXdNLlsUg",
        "colab_type": "code",
        "colab": {
          "base_uri": "https://localhost:8080/",
          "height": 296
        },
        "outputId": "b3cff527-204a-4476-d9e7-a8c2c533d780"
      },
      "source": [
        "import matplotlib.pyplot as plt\n",
        "\n",
        "# plt.yscale('log')\n",
        "plt.ylabel(\"loss\")\n",
        "plt.xlabel(\"epochs\")\n",
        "\n",
        "plt.plot(history.history['loss']);\n",
        "plt.plot(history.history['val_loss']);\n",
        "\n",
        "plt.legend(['train', 'test'])"
      ],
      "execution_count": 76,
      "outputs": [
        {
          "output_type": "execute_result",
          "data": {
            "text/plain": [
              "<matplotlib.legend.Legend at 0x7fd72d0d8f28>"
            ]
          },
          "metadata": {
            "tags": []
          },
          "execution_count": 76
        },
        {
          "output_type": "display_data",
          "data": {
            "image/png": "[encoded data removed]",
            "text/plain": [
              "<Figure size 432x288 with 1 Axes>"
            ]
          },
          "metadata": {
            "tags": []
          }
        }
      ]
    },
    {
      "cell_type": "code",
      "metadata": {
        "id": "WQVI6oZrmvL-",
        "colab_type": "code",
        "colab": {
          "base_uri": "https://localhost:8080/",
          "height": 296
        },
        "outputId": "3781125b-bc71-4314-fe4f-1baedc026316"
      },
      "source": [
        "import matplotlib.pyplot as plt\n",
        "\n",
        "# plt.yscale('log')\n",
        "plt.ylabel(\"accuracy\")\n",
        "plt.xlabel(\"epochs\")\n",
        "\n",
        "plt.plot(history.history['accuracy']);\n",
        "plt.plot(history.history['val_accuracy']);\n",
        "\n",
        "plt.legend(['train', 'test'])"
      ],
      "execution_count": 77,
      "outputs": [
        {
          "output_type": "execute_result",
          "data": {
            "text/plain": [
              "<matplotlib.legend.Legend at 0x7fd72daa76d8>"
            ]
          },
          "metadata": {
            "tags": []
          },
          "execution_count": 77
        },
        {
          "output_type": "display_data",
          "data": {
            "image/png": "[encoded data removed]",
            "text/plain": [
              "<Figure size 432x288 with 1 Axes>"
            ]
          },
          "metadata": {
            "tags": []
          }
        }
      ]
    },
    {
      "cell_type": "markdown",
      "metadata": {
        "id": "WJRO3Anziw0X",
        "colab_type": "text"
      },
      "source": [
        "As a reminder, in chapter 3, our very first naive approach to this very dataset got us to 88% test accuracy. Unfortunately, our small \n",
        "recurrent network doesn't perform very well at all compared to this baseline (only up to 85% validation accuracy). Part of the problem is \n",
        "that our inputs only consider the first 500 words rather the full sequences -- \n",
        "hence our RNN has access to less information than our earlier baseline model. The remainder of the problem is simply that `SimpleRNN` isn't very good at processing long sequences, like text. Other types of recurrent layers perform much better. Let's take a look at some \n",
        "more advanced layers."
      ]
    },
    {
      "cell_type": "markdown",
      "metadata": {
        "id": "Pt1pZs_Fiw0Y",
        "colab_type": "text"
      },
      "source": [
        "[...]\n",
        "\n",
        "## A concrete LSTM example in Keras\n",
        "\n",
        "Now let's switch to more practical concerns: we will set up a model using a LSTM layer and train it on the IMDB data. Here's the network, \n",
        "similar to the one with `SimpleRNN` that we just presented. We only specify the output dimensionality of the LSTM layer, and leave every \n",
        "other argument (there are lots) to the Keras defaults. Keras has good defaults, and things will almost always \"just work\" without you \n",
        "having to spend time tuning parameters by hand."
      ]
    },
    {
      "cell_type": "code",
      "metadata": {
        "id": "eZ7dI62Fiw0Y",
        "colab_type": "code",
        "colab": {
          "base_uri": "https://localhost:8080/",
          "height": 374
        },
        "outputId": "74425e31-21ff-4d1d-923b-52a30c456f7a"
      },
      "source": [
        "from tensorflow.keras.layers import LSTM\n",
        "\n",
        "model = Sequential()\n",
        "model.add(Embedding(max_features, 32))\n",
        "model.add(LSTM(32))\n",
        "model.add(Dense(1, activation='sigmoid'))\n",
        "\n",
        "model.compile(optimizer='adam',\n",
        "              loss='binary_crossentropy',\n",
        "              metrics=['accuracy'])\n",
        "history = model.fit(input_train, y_train,\n",
        "                    epochs=10,\n",
        "                    # batch_size=128,\n",
        "                    batch_size=1024,\n",
        "                    validation_data=(input_test, y_test)\n",
        "#                     validation_split=0.2\n",
        "                   )"
      ],
      "execution_count": 21,
      "outputs": [
        {
          "output_type": "stream",
          "text": [
            "Train on 25000 samples, validate on 25000 samples\n",
            "Epoch 1/10\n",
            "25000/25000 [==============================] - 9s 352us/sample - loss: 0.6896 - accuracy: 0.5860 - val_loss: 0.6785 - val_accuracy: 0.6981\n",
            "Epoch 2/10\n",
            "25000/25000 [==============================] - 2s 97us/sample - loss: 0.5950 - accuracy: 0.7457 - val_loss: 0.5223 - val_accuracy: 0.7744\n",
            "Epoch 3/10\n",
            "25000/25000 [==============================] - 2s 99us/sample - loss: 0.4434 - accuracy: 0.8184 - val_loss: 0.4108 - val_accuracy: 0.8291\n",
            "Epoch 4/10\n",
            "25000/25000 [==============================] - 2s 99us/sample - loss: 0.3359 - accuracy: 0.8729 - val_loss: 0.3490 - val_accuracy: 0.8529\n",
            "Epoch 5/10\n",
            "25000/25000 [==============================] - 2s 97us/sample - loss: 0.2656 - accuracy: 0.9022 - val_loss: 0.3265 - val_accuracy: 0.8616\n",
            "Epoch 6/10\n",
            "25000/25000 [==============================] - 2s 98us/sample - loss: 0.2201 - accuracy: 0.9221 - val_loss: 0.3155 - val_accuracy: 0.8699\n",
            "Epoch 7/10\n",
            "25000/25000 [==============================] - 2s 98us/sample - loss: 0.1904 - accuracy: 0.9363 - val_loss: 0.3173 - val_accuracy: 0.8716\n",
            "Epoch 8/10\n",
            "25000/25000 [==============================] - 2s 100us/sample - loss: 0.1614 - accuracy: 0.9487 - val_loss: 0.3165 - val_accuracy: 0.8724\n",
            "Epoch 9/10\n",
            "25000/25000 [==============================] - 2s 98us/sample - loss: 0.1381 - accuracy: 0.9593 - val_loss: 0.3348 - val_accuracy: 0.8668\n",
            "Epoch 10/10\n",
            "25000/25000 [==============================] - 2s 97us/sample - loss: 0.1203 - accuracy: 0.9662 - val_loss: 0.3406 - val_accuracy: 0.8692\n"
          ],
          "name": "stdout"
        }
      ]
    },
    {
      "cell_type": "code",
      "metadata": {
        "colab_type": "code",
        "outputId": "14125bee-eead-4f90-95f1-d600c1371510",
        "id": "cZ96XJhfnTAX",
        "colab": {
          "base_uri": "https://localhost:8080/",
          "height": 296
        }
      },
      "source": [
        "import matplotlib.pyplot as plt\n",
        "\n",
        "# plt.yscale('log')\n",
        "plt.ylabel(\"loss\")\n",
        "plt.xlabel(\"epochs\")\n",
        "\n",
        "plt.plot(history.history['loss']);\n",
        "plt.plot(history.history['val_loss']);\n",
        "\n",
        "plt.legend(['train', 'test'])"
      ],
      "execution_count": 22,
      "outputs": [
        {
          "output_type": "execute_result",
          "data": {
            "text/plain": [
              "<matplotlib.legend.Legend at 0x7fd71efd36d8>"
            ]
          },
          "metadata": {
            "tags": []
          },
          "execution_count": 22
        },
        {
          "output_type": "display_data",
          "data": {
            "image/png": "[encoded data removed]",
            "text/plain": [
              "<Figure size 432x288 with 1 Axes>"
            ]
          },
          "metadata": {
            "tags": []
          }
        }
      ]
    },
    {
      "cell_type": "code",
      "metadata": {
        "colab_type": "code",
        "outputId": "c1653f17-c943-4cd0-cd82-3f7380895e08",
        "id": "f0xGepHenTAh",
        "colab": {
          "base_uri": "https://localhost:8080/",
          "height": 296
        }
      },
      "source": [
        "import matplotlib.pyplot as plt\n",
        "\n",
        "# plt.yscale('log')\n",
        "plt.ylabel(\"accuracy\")\n",
        "plt.xlabel(\"epochs\")\n",
        "\n",
        "plt.plot(history.history['accuracy']);\n",
        "plt.plot(history.history['val_accuracy']);\n",
        "\n",
        "plt.legend(['train', 'test'])"
      ],
      "execution_count": 23,
      "outputs": [
        {
          "output_type": "execute_result",
          "data": {
            "text/plain": [
              "<matplotlib.legend.Legend at 0x7fd76007fc88>"
            ]
          },
          "metadata": {
            "tags": []
          },
          "execution_count": 23
        },
        {
          "output_type": "display_data",
          "data": {
            "image/png": "[encoded data removed]",
            "text/plain": [
              "<Figure size 432x288 with 1 Axes>"
            ]
          },
          "metadata": {
            "tags": []
          }
        }
      ]
    },
    {
      "cell_type": "code",
      "metadata": {
        "id": "kymes3ounc_i",
        "colab_type": "code",
        "colab": {
          "base_uri": "https://localhost:8080/",
          "height": 374
        },
        "outputId": "46633e81-7146-4a16-8de2-3daf82b5fd08"
      },
      "source": [
        "from tensorflow.keras.layers import GRU\n",
        "\n",
        "model = Sequential()\n",
        "model.add(Embedding(max_features, 32))\n",
        "model.add(GRU(32))\n",
        "model.add(Dense(1, activation='sigmoid'))\n",
        "\n",
        "model.compile(optimizer='adam',\n",
        "              loss='binary_crossentropy',\n",
        "              metrics=['accuracy'])\n",
        "history = model.fit(input_train, y_train,\n",
        "                    epochs=10,\n",
        "                    # batch_size=128,\n",
        "                    batch_size=1024,\n",
        "                    validation_data=(input_test, y_test)\n",
        "#                     validation_split=0.2\n",
        "                   )"
      ],
      "execution_count": 24,
      "outputs": [
        {
          "output_type": "stream",
          "text": [
            "Train on 25000 samples, validate on 25000 samples\n",
            "Epoch 1/10\n",
            "25000/25000 [==============================] - 4s 155us/sample - loss: 0.6894 - accuracy: 0.5630 - val_loss: 0.6812 - val_accuracy: 0.6233\n",
            "Epoch 2/10\n",
            "25000/25000 [==============================] - 3s 101us/sample - loss: 0.6490 - accuracy: 0.6824 - val_loss: 0.5862 - val_accuracy: 0.7150\n",
            "Epoch 3/10\n",
            "25000/25000 [==============================] - 2s 98us/sample - loss: 0.4588 - accuracy: 0.7895 - val_loss: 0.4009 - val_accuracy: 0.8239\n",
            "Epoch 4/10\n",
            "25000/25000 [==============================] - 2s 99us/sample - loss: 0.3179 - accuracy: 0.8656 - val_loss: 0.3785 - val_accuracy: 0.8310\n",
            "Epoch 5/10\n",
            "25000/25000 [==============================] - 3s 101us/sample - loss: 0.2669 - accuracy: 0.8942 - val_loss: 0.3366 - val_accuracy: 0.8634\n",
            "Epoch 6/10\n",
            "25000/25000 [==============================] - 2s 100us/sample - loss: 0.2202 - accuracy: 0.9164 - val_loss: 0.3316 - val_accuracy: 0.8611\n",
            "Epoch 7/10\n",
            "25000/25000 [==============================] - 2s 99us/sample - loss: 0.1905 - accuracy: 0.9322 - val_loss: 0.3432 - val_accuracy: 0.8622\n",
            "Epoch 8/10\n",
            "25000/25000 [==============================] - 2s 100us/sample - loss: 0.1599 - accuracy: 0.9452 - val_loss: 0.3593 - val_accuracy: 0.8614\n",
            "Epoch 9/10\n",
            "25000/25000 [==============================] - 2s 98us/sample - loss: 0.1379 - accuracy: 0.9568 - val_loss: 0.3745 - val_accuracy: 0.8602\n",
            "Epoch 10/10\n",
            "25000/25000 [==============================] - 2s 99us/sample - loss: 0.1218 - accuracy: 0.9626 - val_loss: 0.4017 - val_accuracy: 0.8565\n"
          ],
          "name": "stdout"
        }
      ]
    },
    {
      "cell_type": "code",
      "metadata": {
        "colab_type": "code",
        "outputId": "986e5eff-3017-4fcc-9daf-c6a58dfec471",
        "id": "7cWqOa93oIaA",
        "colab": {
          "base_uri": "https://localhost:8080/",
          "height": 296
        }
      },
      "source": [
        "import matplotlib.pyplot as plt\n",
        "\n",
        "# plt.yscale('log')\n",
        "plt.ylabel(\"loss\")\n",
        "plt.xlabel(\"epochs\")\n",
        "\n",
        "plt.plot(history.history['loss']);\n",
        "plt.plot(history.history['val_loss']);\n",
        "\n",
        "plt.legend(['train', 'test'])"
      ],
      "execution_count": 25,
      "outputs": [
        {
          "output_type": "execute_result",
          "data": {
            "text/plain": [
              "<matplotlib.legend.Legend at 0x7fd73a427320>"
            ]
          },
          "metadata": {
            "tags": []
          },
          "execution_count": 25
        },
        {
          "output_type": "display_data",
          "data": {
            "image/png": "[encoded data removed]",
            "text/plain": [
              "<Figure size 432x288 with 1 Axes>"
            ]
          },
          "metadata": {
            "tags": []
          }
        }
      ]
    },
    {
      "cell_type": "code",
      "metadata": {
        "colab_type": "code",
        "outputId": "bb27f741-e633-455f-9e8b-5b3d6c33cdba",
        "id": "y67rMM_moIaN",
        "colab": {
          "base_uri": "https://localhost:8080/",
          "height": 296
        }
      },
      "source": [
        "import matplotlib.pyplot as plt\n",
        "\n",
        "# plt.yscale('log')\n",
        "plt.ylabel(\"accuracy\")\n",
        "plt.xlabel(\"epochs\")\n",
        "\n",
        "plt.plot(history.history['accuracy']);\n",
        "plt.plot(history.history['val_accuracy']);\n",
        "\n",
        "plt.legend(['train', 'test'])"
      ],
      "execution_count": 26,
      "outputs": [
        {
          "output_type": "execute_result",
          "data": {
            "text/plain": [
              "<matplotlib.legend.Legend at 0x7fd73af8c7f0>"
            ]
          },
          "metadata": {
            "tags": []
          },
          "execution_count": 26
        },
        {
          "output_type": "display_data",
          "data": {
            "image/png": "[encoded data removed]",
            "text/plain": [
              "<Figure size 432x288 with 1 Axes>"
            ]
          },
          "metadata": {
            "tags": []
          }
        }
      ]
    },
    {
      "cell_type": "code",
      "metadata": {
        "id": "i3IyHJf6oOnn",
        "colab_type": "code",
        "colab": {
          "base_uri": "https://localhost:8080/",
          "height": 374
        },
        "outputId": "8ecac36d-3e07-4b74-a8b8-4a4555017de0"
      },
      "source": [
        "from tensorflow.keras.layers import GRU\n",
        "\n",
        "model = Sequential()\n",
        "model.add(Embedding(max_features, 32))\n",
        "model.add(GRU(32,\n",
        "              dropout=0.4,\n",
        "              recurrent_dropout=0.4))\n",
        "model.add(Dense(1, activation='sigmoid'))\n",
        "\n",
        "model.compile(optimizer='adam',\n",
        "              loss='binary_crossentropy',\n",
        "              metrics=['accuracy'])\n",
        "history = model.fit(input_train, y_train,\n",
        "                    epochs=10,\n",
        "                    # batch_size=128,\n",
        "                    batch_size=1024,\n",
        "                    validation_data=(input_test, y_test)\n",
        "#                     validation_split=0.2\n",
        "                   )"
      ],
      "execution_count": 31,
      "outputs": [
        {
          "output_type": "stream",
          "text": [
            "Train on 25000 samples, validate on 25000 samples\n",
            "Epoch 1/10\n",
            "25000/25000 [==============================] - 30s 1ms/sample - loss: 0.6901 - accuracy: 0.5565 - val_loss: 0.6837 - val_accuracy: 0.6232\n",
            "Epoch 2/10\n",
            "25000/25000 [==============================] - 28s 1ms/sample - loss: 0.6589 - accuracy: 0.6656 - val_loss: 0.6238 - val_accuracy: 0.6764\n",
            "Epoch 3/10\n",
            "25000/25000 [==============================] - 27s 1ms/sample - loss: 0.5589 - accuracy: 0.7362 - val_loss: 0.5379 - val_accuracy: 0.7295\n",
            "Epoch 4/10\n",
            "25000/25000 [==============================] - 28s 1ms/sample - loss: 0.4736 - accuracy: 0.7873 - val_loss: 0.4945 - val_accuracy: 0.7575\n",
            "Epoch 5/10\n",
            "25000/25000 [==============================] - 27s 1ms/sample - loss: 0.4265 - accuracy: 0.8160 - val_loss: 0.4815 - val_accuracy: 0.7665\n",
            "Epoch 6/10\n",
            "25000/25000 [==============================] - 28s 1ms/sample - loss: 0.3993 - accuracy: 0.8334 - val_loss: 0.4737 - val_accuracy: 0.7737\n",
            "Epoch 7/10\n",
            "25000/25000 [==============================] - 27s 1ms/sample - loss: 0.3813 - accuracy: 0.8383 - val_loss: 0.4677 - val_accuracy: 0.7773\n",
            "Epoch 8/10\n",
            "25000/25000 [==============================] - 28s 1ms/sample - loss: 0.3564 - accuracy: 0.8514 - val_loss: 0.4661 - val_accuracy: 0.7834\n",
            "Epoch 9/10\n",
            "25000/25000 [==============================] - 27s 1ms/sample - loss: 0.3402 - accuracy: 0.8610 - val_loss: 0.4697 - val_accuracy: 0.7821\n",
            "Epoch 10/10\n",
            "25000/25000 [==============================] - 28s 1ms/sample - loss: 0.3386 - accuracy: 0.8664 - val_loss: 0.4765 - val_accuracy: 0.7742\n"
          ],
          "name": "stdout"
        }
      ]
    },
    {
      "cell_type": "code",
      "metadata": {
        "colab_type": "code",
        "outputId": "3ad77bcb-8a5c-4170-e2c9-52c019adace6",
        "id": "sy_RtXpYqimo",
        "colab": {
          "base_uri": "https://localhost:8080/",
          "height": 296
        }
      },
      "source": [
        "import matplotlib.pyplot as plt\n",
        "\n",
        "# plt.yscale('log')\n",
        "plt.ylabel(\"loss\")\n",
        "plt.xlabel(\"epochs\")\n",
        "\n",
        "plt.plot(history.history['loss']);\n",
        "plt.plot(history.history['val_loss']);\n",
        "\n",
        "plt.legend(['train', 'test'])"
      ],
      "execution_count": 29,
      "outputs": [
        {
          "output_type": "execute_result",
          "data": {
            "text/plain": [
              "<matplotlib.legend.Legend at 0x7fd738566dd8>"
            ]
          },
          "metadata": {
            "tags": []
          },
          "execution_count": 29
        },
        {
          "output_type": "display_data",
          "data": {
            "image/png": "[encoded data removed]",
            "text/plain": [
              "<Figure size 432x288 with 1 Axes>"
            ]
          },
          "metadata": {
            "tags": []
          }
        }
      ]
    },
    {
      "cell_type": "code",
      "metadata": {
        "colab_type": "code",
        "outputId": "e62ea76d-c616-459c-c7a3-0fc7f15e5743",
        "id": "mXYDfrbMqim_",
        "colab": {
          "base_uri": "https://localhost:8080/",
          "height": 299
        }
      },
      "source": [
        "import matplotlib.pyplot as plt\n",
        "\n",
        "# plt.yscale('log')\n",
        "plt.ylabel(\"accuracy\")\n",
        "plt.xlabel(\"epochs\")\n",
        "\n",
        "plt.plot(history.history['accuracy']);\n",
        "plt.plot(history.history['val_accuracy']);\n",
        "\n",
        "plt.legend(['train', 'test'])"
      ],
      "execution_count": 30,
      "outputs": [
        {
          "output_type": "execute_result",
          "data": {
            "text/plain": [
              "<matplotlib.legend.Legend at 0x7fd72d2cb7b8>"
            ]
          },
          "metadata": {
            "tags": []
          },
          "execution_count": 30
        },
        {
          "output_type": "display_data",
          "data": {
            "image/png": "[encoded data removed]",
            "text/plain": [
              "<Figure size 432x288 with 1 Axes>"
            ]
          },
          "metadata": {
            "tags": []
          }
        }
      ]
    },
    {
      "cell_type": "code",
      "metadata": {
        "id": "38UmKn7Bqknv",
        "colab_type": "code",
        "colab": {}
      },
      "source": [
        ""
      ],
      "execution_count": 0,
      "outputs": []
    }
  ]
}